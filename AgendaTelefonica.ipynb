{
  "nbformat": 4,
  "nbformat_minor": 0,
  "metadata": {
    "colab": {
      "name": "AgendaTelefonica.ipynb",
      "provenance": [],
      "authorship_tag": "ABX9TyNdtOuUJYjgY/hFML+76Nx+",
      "include_colab_link": true
    },
    "kernelspec": {
      "name": "python3",
      "display_name": "Python 3"
    },
    "language_info": {
      "name": "python"
    }
  },
  "cells": [
    {
      "cell_type": "markdown",
      "metadata": {
        "id": "view-in-github",
        "colab_type": "text"
      },
      "source": [
        "<a href=\"https://colab.research.google.com/github/heloisacamboim/agenda-telefonica/blob/gh-pages/AgendaTelefonica.ipynb\" target=\"_parent\"><img src=\"https://colab.research.google.com/assets/colab-badge.svg\" alt=\"Open In Colab\"/></a>"
      ]
    },
    {
      "cell_type": "code",
      "metadata": {
        "id": "QwGrMjmb_iI4",
        "colab": {
          "base_uri": "https://localhost:8080/",
          "height": 129
        },
        "outputId": "52a9444a-80fd-4b77-9710-651dff497e3b"
      },
      "source": [
        "def inserirContato(nome, telefone, email,usuarioInstagram,usuarioTwitter):\n",
        "  cont = input('Quantos contatos deseja inserir? ')\n",
        "  while cont > 0:\n",
        "    nome = input('Nome: ')\n",
        "    telefone = input('Telefone: ')\n",
        "    email = input('E-mail: ')\n",
        "    usuarioInstagram = input('Nome de usuario Intagram: @')\n",
        "    usuarioTwitter = input('Nome de usuario Twitter: @')\n",
        "    cont -= 1\n",
        "\n",
        "def consultarContato(nome):\n",
        "\n",
        "\n",
        "def removerContato():\n",
        "  nome = input('Informe o nome do contato que deseja remover: ')\n",
        "  if nome in agenda\n",
        "    agenda.pop(name)\n",
        "\n",
        "def alterarContato():\n",
        "\n",
        "def listarContatos():\n",
        "\n",
        "print('Agenda Telefonica')\n",
        "print(' ')\n",
        "print('Menu')\n",
        "print('1 - Inserir contato')\n",
        "print('2 - Consultar contato')\n",
        "print('3 - Remover contato')\n",
        "print('4 - Alterar contato')\n",
        "print('5 - Listar contatos')\n",
        "print('6 - Sair')\n",
        "\n",
        "opcao = input('Informe a opcao desejada: ')\n",
        "\n",
        "if opcao == 1:\n",
        "  inserirContato()\n",
        "\n",
        "elif opcao == 2:\n",
        "  consultarContato()\n",
        "\n",
        "elif opcao == 3:\n",
        "  removerContato()\n",
        "\n",
        "elif opcao == 4:\n",
        "  alterarContato()\n",
        "\n",
        "elif opcao == 5:\n",
        "  listarContatos()\n",
        "\n",
        "elif opcao == 6:\n",
        "  print('FIM')\n",
        "  break\n",
        "\n",
        "else print('Opcao invalida!')"
      ],
      "execution_count": 1,
      "outputs": [
        {
          "output_type": "error",
          "ename": "IndentationError",
          "evalue": "ignored",
          "traceback": [
            "\u001b[0;36m  File \u001b[0;32m\"<ipython-input-1-770df86acdae>\"\u001b[0;36m, line \u001b[0;32m11\u001b[0m\n\u001b[0;31m    def removerContato():\u001b[0m\n\u001b[0m      ^\u001b[0m\n\u001b[0;31mIndentationError\u001b[0m\u001b[0;31m:\u001b[0m expected an indented block\n"
          ]
        }
      ]
    },
    {
      "cell_type": "code",
      "metadata": {
        "id": "CKEiNf4IQAqe"
      },
      "source": [
        "agenda = {}\n",
        "  nome = input('Nome: ')\n",
        "  telefone = input('Telefone: ')\n",
        "  email = input('E-mail: ')\n",
        "  usuarioInstagram = input('Nome de usuario Intagram: @')\n",
        "  usuarioTwitter = input('Nome de usuario Twitter: @')"
      ],
      "execution_count": null,
      "outputs": []
    },
    {
      "cell_type": "code",
      "metadata": {
        "id": "Jf-e-3CfRfWJ"
      },
      "source": [
        ""
      ],
      "execution_count": null,
      "outputs": []
    }
  ]
}