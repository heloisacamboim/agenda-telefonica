{
  "nbformat": 4,
  "nbformat_minor": 0,
  "metadata": {
    "colab": {
      "name": "AgendaTelefonica.ipynb",
      "provenance": [],
      "authorship_tag": "ABX9TyO3V2PFcQ3+6pUl1qjJpvv4",
      "include_colab_link": true
    },
    "kernelspec": {
      "name": "python3",
      "display_name": "Python 3"
    },
    "language_info": {
      "name": "python"
    }
  },
  "cells": [
    {
      "cell_type": "markdown",
      "metadata": {
        "id": "view-in-github",
        "colab_type": "text"
      },
      "source": [
        "<a href=\"https://colab.research.google.com/github/heloisacamboim/agenda-telefonica/blob/gh-pages/AgendaTelefonica.ipynb\" target=\"_parent\"><img src=\"https://colab.research.google.com/assets/colab-badge.svg\" alt=\"Open In Colab\"/></a>"
      ]
    },
    {
      "cell_type": "code",
      "metadata": {
        "id": "5aKgt50UJolV"
      },
      "source": [
        "# Criação de dicionario vazio\n",
        "agenda = {}\n"
      ],
      "execution_count": 206,
      "outputs": []
    },
    {
      "cell_type": "code",
      "metadata": {
        "colab": {
          "base_uri": "https://localhost:8080/"
        },
        "id": "wwMmM0LxJsVr",
        "outputId": "32a226db-0d7b-487e-8e6f-5593324088bd"
      },
      "source": [
        "# Função que insere quantidade desejada de novos contatos\n",
        "def inserirContato(nome,email,telefone,usuarioInstagram,usuarioTwitter):\n",
        "  agenda[nome]=[telefone,email,usuarioInstagram,usuarioTwitter]\n",
        "  \n",
        "\n",
        "cont = int(input('Quantos contatos deseja inserir? '))\n",
        "while cont > 0:\n",
        "  nome = input('Nome: ')\n",
        "  telefone = input('Telefone: ')\n",
        "  email = input('E-mail: ')\n",
        "  usuarioInstagram = input('Nome de usuario Intagram: @')\n",
        "  usuarioTwitter = input('Nome de usuario Twitter: @')\n",
        "  cont -= 1\n",
        "  inserirContato(nome,email,telefone,usuarioInstagram,usuarioTwitter)"
      ],
      "execution_count": 208,
      "outputs": [
        {
          "output_type": "stream",
          "text": [
            "Quantos contatos deseja inserir? 6\n",
            "Nome: Lara\n",
            "Telefone: 3456-3876\n",
            "E-mail: laramc@uol.com.br\n",
            "Nome de usuario Intagram: @laramartins\n",
            "Nome de usuario Twitter: @laramc\n",
            "Nome: Joao\n",
            "Telefone: 3798-7843\n",
            "E-mail: joaozinho@hotmail.com\n",
            "Nome de usuario Intagram: @joao123\n",
            "Nome de usuario Twitter: @joaosilva\n",
            "Nome: Maria\n",
            "Telefone: 9876-3219\n",
            "E-mail: mariaaa@gmail.com\n",
            "Nome de usuario Intagram: @mariarm\n",
            "Nome de usuario Twitter: @mariaramalho\n",
            "Nome: Pedro\n",
            "Telefone: 9965-6532\n",
            "E-mail: pedro93@outlook.com\n",
            "Nome de usuario Intagram: @pedro2406\n",
            "Nome de usuario Twitter: @predonline\n",
            "Nome: Carla\n",
            "Telefone: 9745-1218\n",
            "E-mail: carlamoreira@gmail.com\n",
            "Nome de usuario Intagram: @carlamoreiram\n",
            "Nome de usuario Twitter: @carlinhamor\n",
            "Nome: Marcos\n",
            "Telefone: 35456-7788\n",
            "E-mail: marcossilva@bol.com.br\n",
            "Nome de usuario Intagram: @marcooo123\n",
            "Nome de usuario Twitter: @marcaosilvaa\n"
          ],
          "name": "stdout"
        }
      ]
    },
    {
      "cell_type": "code",
      "metadata": {
        "colab": {
          "base_uri": "https://localhost:8080/"
        },
        "id": "lWq8IOmxJuc3",
        "outputId": "77b2e08a-5e5e-492e-d1c5-055525baefba"
      },
      "source": [
        "# Função que consulta dados de contatos existentes a partir do nome\n",
        "def consultarContato():\n",
        "  if nome in agenda:\n",
        "    print(agenda[nome])\n",
        "  else:\n",
        "    print('Contato inexistente')\n",
        "\n",
        "nome = input('Informe o nome que deseja consultar: ')\n",
        "consultarContato()"
      ],
      "execution_count": 209,
      "outputs": [
        {
          "output_type": "stream",
          "text": [
            "Informe o nome que deseja consultar: Marcos\n",
            "['35456-7788', 'marcossilva@bol.com.br', 'marcooo123', 'marcaosilvaa']\n"
          ],
          "name": "stdout"
        }
      ]
    },
    {
      "cell_type": "code",
      "metadata": {
        "colab": {
          "base_uri": "https://localhost:8080/"
        },
        "id": "oFi4LinTJycj",
        "outputId": "3fc9cc7d-bd14-4db0-99e9-9067931f455f"
      },
      "source": [
        "# Função que exclui todos os dados de usuário a partir do nome\n",
        "def removerContato():\n",
        "  nome = input('Informe o nome do contato que deseja remover: ')\n",
        "  if nome in agenda:\n",
        "    del agenda[nome]\n",
        "    print(\"Contato\", nome, \"removido com sucesso.\")\n",
        "  \n",
        "removerContato()"
      ],
      "execution_count": 210,
      "outputs": [
        {
          "output_type": "stream",
          "text": [
            "Informe o nome do contato que deseja remover: Marcos\n",
            "Contato Marcos removido com sucesso.\n"
          ],
          "name": "stdout"
        }
      ]
    },
    {
      "cell_type": "code",
      "metadata": {
        "id": "2a-v65uBJ1RP"
      },
      "source": [
        "# Função que altera dados de contato\n",
        "\n",
        "def alterarContato(nome,telefone,email,usuarioInstagram,usuarioTwitter):\n",
        "  if nome in agenda.keys():\n",
        "    agenda[nome][0] = telefone\n",
        "    agenda[nome][1] = email\n",
        "    agenda[nome][2] = usuarioInstagram\n",
        "    agenda[nome][3] = usuarioTwitter\n",
        "    print('Dados alterados com sucesso {} {} {} {} {}'.format(nome,agenda[nome][0],agenda[nome][1],agenda[nome][2],agenda[nome][3]))\n",
        "  else:\n",
        "    print(\"Nome não encontrado!\")"
      ],
      "execution_count": 211,
      "outputs": []
    },
    {
      "cell_type": "code",
      "metadata": {
        "colab": {
          "base_uri": "https://localhost:8080/"
        },
        "id": "65yLTQb4J5U-",
        "outputId": "d7c5c8c4-c508-473e-9742-54f5ea047236"
      },
      "source": [
        "# Solicita o nome de contato e os dados que serao alterados\n",
        "nome = input(\"Informe o nome que deseja alterar os dados: \")\n",
        "telefone = input(\"Informe o novo telefone: \")\n",
        "email = input(\"Informe o novo E-mail: \")\n",
        "usuarioInstagram = input(\"Informe o novo nome de usário Instagram: \")\n",
        "usuarioTwitter = input(\"Informe o novo nome de usário Twitter: \")\n",
        "\n",
        "alterarContato(nome,telefone,email,usuarioInstagram,usuarioTwitter)"
      ],
      "execution_count": 213,
      "outputs": [
        {
          "output_type": "stream",
          "text": [
            "Informe o nome que deseja alterar os dados: Maria\n",
            "Informe o novo telefone: 9854-5643\n",
            "Informe o novo E-mail: mariarm28@uol.com.br\n",
            "Informe o novo nome de usário Instagram: mariarm\n",
            "Informe o novo nome de usário Twitter: mariaaa5\n",
            "Dados alterados com sucesso Maria 9854-5643 mariarm28@uol.com.br mariarm mariaaa5\n"
          ],
          "name": "stdout"
        }
      ]
    },
    {
      "cell_type": "code",
      "metadata": {
        "colab": {
          "base_uri": "https://localhost:8080/"
        },
        "id": "vCWMISinKWn5",
        "outputId": "c5f2b9d3-7919-4bea-80d1-29e8ee80aa0a"
      },
      "source": [
        "# Função que gera relatório contendo os dados dos contatos cadastrados\n",
        "\n",
        "def listarContatos():\n",
        "  print(\"Numero \\t Nome \\t Telefone \\t E-mail \\t\\t\\t Instagram \\t Twitter\")\n",
        "\n",
        "  cont=1\n",
        "  for i in agenda.keys():\n",
        "    print(\"{}\\t {}\\t {}\\t {}\\t\\t @{}\\t @{}\".format(cont,i,agenda[i][0],agenda[i][1],agenda[i][2],agenda[i][3]))\n",
        "    cont += 1\n",
        "\n",
        "listarContatos()"
      ],
      "execution_count": 214,
      "outputs": [
        {
          "output_type": "stream",
          "text": [
            "Numero \t Nome \t Telefone \t E-mail \t\t\t Instagram \t Twitter\n",
            "1\t Lara\t 3456-3876\t laramc@uol.com.br\t\t @laramartins\t @laramc\n",
            "2\t Joao\t 3456-9032\t joao23@hotmail.com\t\t @joao23\t @joaozinho23\n",
            "3\t Maria\t 9854-5643\t mariarm28@uol.com.br\t\t @mariarm\t @mariaaa5\n",
            "4\t Pedro\t 9965-6532\t pedro93@outlook.com\t\t @pedro2406\t @predonline\n",
            "5\t Carla\t 9745-1218\t carlamoreira@gmail.com\t\t @carlamoreiram\t @carlinhamor\n"
          ],
          "name": "stdout"
        }
      ]
    },
    {
      "cell_type": "code",
      "metadata": {
        "colab": {
          "base_uri": "https://localhost:8080/"
        },
        "id": "unFEL-jaFKAu",
        "outputId": "c564fcad-c7dd-4867-abc7-31723d51b4a5"
      },
      "source": [
        "# Função que apresenta os dados dos contatos separados por virgula\n",
        "def salvarDados():\n",
        "  for i in agenda.keys():\n",
        "    print('{}, {}, {}, {}, {}'.format(i,agenda[i][0],agenda[i][1],agenda[i][2],agenda[i][3]))\n",
        "\n",
        "salvarDados()"
      ],
      "execution_count": 215,
      "outputs": [
        {
          "output_type": "stream",
          "text": [
            "Lara, 3456-3876, laramc@uol.com.br, laramartins, laramc\n",
            "Joao, 3456-9032, joao23@hotmail.com, joao23, joaozinho23\n",
            "Maria, 9854-5643, mariarm28@uol.com.br, mariarm, mariaaa5\n",
            "Pedro, 9965-6532, pedro93@outlook.com, pedro2406, predonline\n",
            "Carla, 9745-1218, carlamoreira@gmail.com, carlamoreiram, carlinhamor\n"
          ],
          "name": "stdout"
        }
      ]
    },
    {
      "cell_type": "code",
      "metadata": {
        "id": "El1M_XhFKZcB"
      },
      "source": [
        "# Função que apresenta o menu\n",
        "\n",
        "def print_menu():\n",
        "  print(\"Agenda Telefonica\\n\"\n",
        "  \"\\n\"\n",
        "  \"Menu\\n\"\n",
        "  \"1 - Inserir contato\\n\"\n",
        "  \"2 - Consultar contato\\n\"\n",
        "  \"3 - Remover contato\\n\"\n",
        "  \"4 - Alterar contato\\n\"\n",
        "  \"5 - Listar contatos\\n\"\n",
        "  \"6 - Sair\")"
      ],
      "execution_count": 216,
      "outputs": []
    },
    {
      "cell_type": "code",
      "metadata": {
        "colab": {
          "base_uri": "https://localhost:8080/"
        },
        "id": "-JZG7W6zLTrT",
        "outputId": "17f5a54f-df92-495d-c4b7-638e2f42184b"
      },
      "source": [
        "# Solicita a opcao que sera executada\n",
        "opcao = int(input('Informe a opcao desejada: '))"
      ],
      "execution_count": 219,
      "outputs": [
        {
          "output_type": "stream",
          "text": [
            "Informe a opcao desejada: 5\n"
          ],
          "name": "stdout"
        }
      ]
    },
    {
      "cell_type": "code",
      "metadata": {
        "id": "QwGrMjmb_iI4",
        "colab": {
          "base_uri": "https://localhost:8080/"
        },
        "outputId": "2d272046-9e0f-4fdf-ac80-d560bb0accf2"
      },
      "source": [
        "# Condicional que chama a funcao a ser executada\n",
        "if opcao == 1:\n",
        "  inserirContato()\n",
        "elif opcao == 2:\n",
        "  consultarContato()\n",
        "elif opcao == 3:\n",
        "  removerContato(agenda)\n",
        "elif opcao == 4:\n",
        "  alterarContato()\n",
        "elif opcao == 5:\n",
        "  listarContatos()\n",
        "elif opcao == 6:\n",
        "  print('FIM')\n",
        "else:\n",
        "  print('Opcao invalida!')"
      ],
      "execution_count": 218,
      "outputs": [
        {
          "output_type": "stream",
          "text": [
            "Numero \t Nome \t Telefone \t E-mail \t\t\t Instagram \t Twitter\n",
            "1\t Lara\t 3456-3876\t laramc@uol.com.br\t\t @laramartins\t @laramc\n",
            "2\t Joao\t 3456-9032\t joao23@hotmail.com\t\t @joao23\t @joaozinho23\n",
            "3\t Maria\t 9854-5643\t mariarm28@uol.com.br\t\t @mariarm\t @mariaaa5\n",
            "4\t Pedro\t 9965-6532\t pedro93@outlook.com\t\t @pedro2406\t @predonline\n",
            "5\t Carla\t 9745-1218\t carlamoreira@gmail.com\t\t @carlamoreiram\t @carlinhamor\n"
          ],
          "name": "stdout"
        }
      ]
    }
  ]
}