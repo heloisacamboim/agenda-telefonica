{
  "nbformat": 4,
  "nbformat_minor": 0,
  "metadata": {
    "colab": {
      "name": "AgendaTelefonica.ipynb",
      "provenance": [],
      "authorship_tag": "ABX9TyMR4ZdNCl06biDbpujGSpIM",
      "include_colab_link": true
    },
    "kernelspec": {
      "name": "python3",
      "display_name": "Python 3"
    },
    "language_info": {
      "name": "python"
    }
  },
  "cells": [
    {
      "cell_type": "markdown",
      "metadata": {
        "id": "view-in-github",
        "colab_type": "text"
      },
      "source": [
        "<a href=\"https://colab.research.google.com/github/heloisacamboim/coursera-test/blob/gh-pages/AgendaTelefonica.ipynb\" target=\"_parent\"><img src=\"https://colab.research.google.com/assets/colab-badge.svg\" alt=\"Open In Colab\"/></a>"
      ]
    },
    {
      "cell_type": "code",
      "metadata": {
        "id": "QwGrMjmb_iI4"
      },
      "source": [
        "def inserirContato(nome, telefone, email,usuarioInstagram,usuarioTwitter):\n",
        "  nome = nome\n",
        "  telefone = telefone\n",
        "  email = email\n",
        "  usuarioInstagram = usuarioInstagram\n",
        "  usuarioTwitter = usuarioTwitter\n",
        "\n",
        "def consultarContato():\n",
        "\n",
        "def removerContato():\n",
        "\n",
        "def alterarContato():\n",
        "\n",
        "def listarContatos():\n",
        "\n",
        "print('Menu')\n",
        "print('1 - Inserir contato')\n",
        "print('2 - Consultar contato')\n",
        "print('3 - Remover contato')\n",
        "print('4 - Alterar contato')\n",
        "print('5 - Listar contatos')\n",
        "print('6 - Sair')\n",
        "\n",
        "opcao = input('Informe a opcao desejada: ')\n",
        "\n",
        "if opcao == 1:\n",
        "  inserirContato()\n",
        "\n",
        "elif opcao == 2:\n",
        "  consultarContato()\n",
        "\n",
        "elif opcao == 3:\n",
        "  removerContato()\n",
        "\n",
        "elif opcao == 4:\n",
        "  alterarContato()\n",
        "\n",
        "elif opcao == 5:\n",
        "  listarContatos()\n",
        "\n",
        "elif opcao == 6:\n",
        "  print('FIM')\n",
        "  break\n",
        "\n",
        "else print('Opcao invalida!')"
      ],
      "execution_count": null,
      "outputs": []
    },
    {
      "cell_type": "code",
      "metadata": {
        "id": "CKEiNf4IQAqe"
      },
      "source": [
        "agenda = {}\n",
        "  nome = input('Nome: ')\n",
        "  telefone = input('Telefone: ')\n",
        "  email = input('E-mail: ')\n",
        "  usuarioInstagram = input('Nome de usuario Intagram: @')\n",
        "  usuarioTwitter = input('Nome de usuario Twitter: @')"
      ],
      "execution_count": null,
      "outputs": []
    },
    {
      "cell_type": "code",
      "metadata": {
        "id": "Jf-e-3CfRfWJ"
      },
      "source": [
        ""
      ],
      "execution_count": null,
      "outputs": []
    }
  ]
}