{
  "nbformat": 4,
  "nbformat_minor": 0,
  "metadata": {
    "colab": {
      "name": "AgendaTelefonica.ipynb",
      "provenance": [],
      "authorship_tag": "ABX9TyNi14C0XC1xyTftU+o+yrMM",
      "include_colab_link": true
    },
    "kernelspec": {
      "name": "python3",
      "display_name": "Python 3"
    },
    "language_info": {
      "name": "python"
    }
  },
  "cells": [
    {
      "cell_type": "markdown",
      "metadata": {
        "id": "view-in-github",
        "colab_type": "text"
      },
      "source": [
        "<a href=\"https://colab.research.google.com/github/heloisacamboim/agenda-telefonica/blob/gh-pages/AgendaTelefonica.ipynb\" target=\"_parent\"><img src=\"https://colab.research.google.com/assets/colab-badge.svg\" alt=\"Open In Colab\"/></a>"
      ]
    },
    {
      "cell_type": "code",
      "metadata": {
        "id": "5aKgt50UJolV"
      },
      "source": [
        "agenda = {}\n"
      ],
      "execution_count": 142,
      "outputs": []
    },
    {
      "cell_type": "code",
      "metadata": {
        "colab": {
          "base_uri": "https://localhost:8080/",
          "height": 527
        },
        "id": "wwMmM0LxJsVr",
        "outputId": "d709d8ca-e8fe-4bc8-8e2c-0e3defe225c3"
      },
      "source": [
        "# Função que insere quantidade desejada de novos contatos\n",
        "def inserirContato(nome,email,telefone,usuarioInstagram,usuarioTwitter):\n",
        "  agenda[nome]=[telefone,email,usuarioInstagram,usuarioTwitter]\n",
        "  \n",
        "\n",
        "cont = int(input('Quantos contatos deseja inserir? '))\n",
        "while cont > 0:\n",
        "  nome = input('Nome: ')\n",
        "  telefone = input('Telefone: ')\n",
        "  email = input('E-mail: ')\n",
        "  usuarioInstagram = input('Nome de usuario Intagram: @')\n",
        "  usuarioTwitter = input('Nome de usuario Twitter: @')\n",
        "  cont -= 1\n",
        "  inserirContato(nome,email,telefone,usuarioInstagram,usuarioTwitter)"
      ],
      "execution_count": 144,
      "outputs": [
        {
          "output_type": "error",
          "ename": "KeyboardInterrupt",
          "evalue": "ignored",
          "traceback": [
            "\u001b[0;31m---------------------------------------------------------------------------\u001b[0m",
            "\u001b[0;31mKeyboardInterrupt\u001b[0m                         Traceback (most recent call last)",
            "\u001b[0;32m/usr/local/lib/python3.7/dist-packages/ipykernel/kernelbase.py\u001b[0m in \u001b[0;36m_input_request\u001b[0;34m(self, prompt, ident, parent, password)\u001b[0m\n\u001b[1;32m    728\u001b[0m             \u001b[0;32mtry\u001b[0m\u001b[0;34m:\u001b[0m\u001b[0;34m\u001b[0m\u001b[0;34m\u001b[0m\u001b[0m\n\u001b[0;32m--> 729\u001b[0;31m                 \u001b[0mident\u001b[0m\u001b[0;34m,\u001b[0m \u001b[0mreply\u001b[0m \u001b[0;34m=\u001b[0m \u001b[0mself\u001b[0m\u001b[0;34m.\u001b[0m\u001b[0msession\u001b[0m\u001b[0;34m.\u001b[0m\u001b[0mrecv\u001b[0m\u001b[0;34m(\u001b[0m\u001b[0mself\u001b[0m\u001b[0;34m.\u001b[0m\u001b[0mstdin_socket\u001b[0m\u001b[0;34m,\u001b[0m \u001b[0;36m0\u001b[0m\u001b[0;34m)\u001b[0m\u001b[0;34m\u001b[0m\u001b[0;34m\u001b[0m\u001b[0m\n\u001b[0m\u001b[1;32m    730\u001b[0m             \u001b[0;32mexcept\u001b[0m \u001b[0mException\u001b[0m\u001b[0;34m:\u001b[0m\u001b[0;34m\u001b[0m\u001b[0;34m\u001b[0m\u001b[0m\n",
            "\u001b[0;32m/usr/local/lib/python3.7/dist-packages/jupyter_client/session.py\u001b[0m in \u001b[0;36mrecv\u001b[0;34m(self, socket, mode, content, copy)\u001b[0m\n\u001b[1;32m    802\u001b[0m         \u001b[0;32mtry\u001b[0m\u001b[0;34m:\u001b[0m\u001b[0;34m\u001b[0m\u001b[0;34m\u001b[0m\u001b[0m\n\u001b[0;32m--> 803\u001b[0;31m             \u001b[0mmsg_list\u001b[0m \u001b[0;34m=\u001b[0m \u001b[0msocket\u001b[0m\u001b[0;34m.\u001b[0m\u001b[0mrecv_multipart\u001b[0m\u001b[0;34m(\u001b[0m\u001b[0mmode\u001b[0m\u001b[0;34m,\u001b[0m \u001b[0mcopy\u001b[0m\u001b[0;34m=\u001b[0m\u001b[0mcopy\u001b[0m\u001b[0;34m)\u001b[0m\u001b[0;34m\u001b[0m\u001b[0;34m\u001b[0m\u001b[0m\n\u001b[0m\u001b[1;32m    804\u001b[0m         \u001b[0;32mexcept\u001b[0m \u001b[0mzmq\u001b[0m\u001b[0;34m.\u001b[0m\u001b[0mZMQError\u001b[0m \u001b[0;32mas\u001b[0m \u001b[0me\u001b[0m\u001b[0;34m:\u001b[0m\u001b[0;34m\u001b[0m\u001b[0;34m\u001b[0m\u001b[0m\n",
            "\u001b[0;32m/usr/local/lib/python3.7/dist-packages/zmq/sugar/socket.py\u001b[0m in \u001b[0;36mrecv_multipart\u001b[0;34m(self, flags, copy, track)\u001b[0m\n\u001b[1;32m    618\u001b[0m         \"\"\"\n\u001b[0;32m--> 619\u001b[0;31m         \u001b[0mparts\u001b[0m \u001b[0;34m=\u001b[0m \u001b[0;34m[\u001b[0m\u001b[0mself\u001b[0m\u001b[0;34m.\u001b[0m\u001b[0mrecv\u001b[0m\u001b[0;34m(\u001b[0m\u001b[0mflags\u001b[0m\u001b[0;34m,\u001b[0m \u001b[0mcopy\u001b[0m\u001b[0;34m=\u001b[0m\u001b[0mcopy\u001b[0m\u001b[0;34m,\u001b[0m \u001b[0mtrack\u001b[0m\u001b[0;34m=\u001b[0m\u001b[0mtrack\u001b[0m\u001b[0;34m)\u001b[0m\u001b[0;34m]\u001b[0m\u001b[0;34m\u001b[0m\u001b[0;34m\u001b[0m\u001b[0m\n\u001b[0m\u001b[1;32m    620\u001b[0m         \u001b[0;31m# have first part already, only loop while more to receive\u001b[0m\u001b[0;34m\u001b[0m\u001b[0;34m\u001b[0m\u001b[0;34m\u001b[0m\u001b[0m\n",
            "\u001b[0;32mzmq/backend/cython/socket.pyx\u001b[0m in \u001b[0;36mzmq.backend.cython.socket.Socket.recv\u001b[0;34m()\u001b[0m\n",
            "\u001b[0;32mzmq/backend/cython/socket.pyx\u001b[0m in \u001b[0;36mzmq.backend.cython.socket.Socket.recv\u001b[0;34m()\u001b[0m\n",
            "\u001b[0;32mzmq/backend/cython/socket.pyx\u001b[0m in \u001b[0;36mzmq.backend.cython.socket._recv_copy\u001b[0;34m()\u001b[0m\n",
            "\u001b[0;32m/usr/local/lib/python3.7/dist-packages/zmq/backend/cython/checkrc.pxd\u001b[0m in \u001b[0;36mzmq.backend.cython.checkrc._check_rc\u001b[0;34m()\u001b[0m\n",
            "\u001b[0;31mKeyboardInterrupt\u001b[0m: ",
            "\nDuring handling of the above exception, another exception occurred:\n",
            "\u001b[0;31mKeyboardInterrupt\u001b[0m                         Traceback (most recent call last)",
            "\u001b[0;32m<ipython-input-144-92fdfa9ace22>\u001b[0m in \u001b[0;36m<module>\u001b[0;34m()\u001b[0m\n\u001b[1;32m      4\u001b[0m \u001b[0;34m\u001b[0m\u001b[0m\n\u001b[1;32m      5\u001b[0m \u001b[0;34m\u001b[0m\u001b[0m\n\u001b[0;32m----> 6\u001b[0;31m \u001b[0mcont\u001b[0m \u001b[0;34m=\u001b[0m \u001b[0mint\u001b[0m\u001b[0;34m(\u001b[0m\u001b[0minput\u001b[0m\u001b[0;34m(\u001b[0m\u001b[0;34m'Quantos contatos deseja inserir? '\u001b[0m\u001b[0;34m)\u001b[0m\u001b[0;34m)\u001b[0m\u001b[0;34m\u001b[0m\u001b[0;34m\u001b[0m\u001b[0m\n\u001b[0m\u001b[1;32m      7\u001b[0m \u001b[0;32mwhile\u001b[0m \u001b[0mcont\u001b[0m \u001b[0;34m>\u001b[0m \u001b[0;36m0\u001b[0m\u001b[0;34m:\u001b[0m\u001b[0;34m\u001b[0m\u001b[0;34m\u001b[0m\u001b[0m\n\u001b[1;32m      8\u001b[0m   \u001b[0mnome\u001b[0m \u001b[0;34m=\u001b[0m \u001b[0minput\u001b[0m\u001b[0;34m(\u001b[0m\u001b[0;34m'Nome: '\u001b[0m\u001b[0;34m)\u001b[0m\u001b[0;34m\u001b[0m\u001b[0;34m\u001b[0m\u001b[0m\n",
            "\u001b[0;32m/usr/local/lib/python3.7/dist-packages/ipykernel/kernelbase.py\u001b[0m in \u001b[0;36mraw_input\u001b[0;34m(self, prompt)\u001b[0m\n\u001b[1;32m    702\u001b[0m             \u001b[0mself\u001b[0m\u001b[0;34m.\u001b[0m\u001b[0m_parent_ident\u001b[0m\u001b[0;34m,\u001b[0m\u001b[0;34m\u001b[0m\u001b[0;34m\u001b[0m\u001b[0m\n\u001b[1;32m    703\u001b[0m             \u001b[0mself\u001b[0m\u001b[0;34m.\u001b[0m\u001b[0m_parent_header\u001b[0m\u001b[0;34m,\u001b[0m\u001b[0;34m\u001b[0m\u001b[0;34m\u001b[0m\u001b[0m\n\u001b[0;32m--> 704\u001b[0;31m             \u001b[0mpassword\u001b[0m\u001b[0;34m=\u001b[0m\u001b[0;32mFalse\u001b[0m\u001b[0;34m,\u001b[0m\u001b[0;34m\u001b[0m\u001b[0;34m\u001b[0m\u001b[0m\n\u001b[0m\u001b[1;32m    705\u001b[0m         )\n\u001b[1;32m    706\u001b[0m \u001b[0;34m\u001b[0m\u001b[0m\n",
            "\u001b[0;32m/usr/local/lib/python3.7/dist-packages/ipykernel/kernelbase.py\u001b[0m in \u001b[0;36m_input_request\u001b[0;34m(self, prompt, ident, parent, password)\u001b[0m\n\u001b[1;32m    732\u001b[0m             \u001b[0;32mexcept\u001b[0m \u001b[0mKeyboardInterrupt\u001b[0m\u001b[0;34m:\u001b[0m\u001b[0;34m\u001b[0m\u001b[0;34m\u001b[0m\u001b[0m\n\u001b[1;32m    733\u001b[0m                 \u001b[0;31m# re-raise KeyboardInterrupt, to truncate traceback\u001b[0m\u001b[0;34m\u001b[0m\u001b[0;34m\u001b[0m\u001b[0;34m\u001b[0m\u001b[0m\n\u001b[0;32m--> 734\u001b[0;31m                 \u001b[0;32mraise\u001b[0m \u001b[0mKeyboardInterrupt\u001b[0m\u001b[0;34m\u001b[0m\u001b[0;34m\u001b[0m\u001b[0m\n\u001b[0m\u001b[1;32m    735\u001b[0m             \u001b[0;32melse\u001b[0m\u001b[0;34m:\u001b[0m\u001b[0;34m\u001b[0m\u001b[0;34m\u001b[0m\u001b[0m\n\u001b[1;32m    736\u001b[0m                 \u001b[0;32mbreak\u001b[0m\u001b[0;34m\u001b[0m\u001b[0;34m\u001b[0m\u001b[0m\n",
            "\u001b[0;31mKeyboardInterrupt\u001b[0m: "
          ]
        }
      ]
    },
    {
      "cell_type": "code",
      "metadata": {
        "colab": {
          "base_uri": "https://localhost:8080/"
        },
        "id": "lWq8IOmxJuc3",
        "outputId": "a3153fba-e4b9-4189-da20-d33b1188c34e"
      },
      "source": [
        "# Função que consulta contatos existentes a partir do nome\n",
        "def consultarContato():\n",
        "  if nome in agenda:\n",
        "    print(agenda[nome])\n",
        "  else:\n",
        "    print('Contato inexistente')\n",
        "\n",
        "nome = input('Informe o nome que deseja consultar: ')\n",
        "consultarContato()"
      ],
      "execution_count": 99,
      "outputs": [
        {
          "output_type": "stream",
          "text": [
            "Informe o nome que deseja consultar: Maria\n",
            "['9876-3219', 'mariaaa@gmail.com', 'mariarm', 'mariaramalho']\n"
          ],
          "name": "stdout"
        }
      ]
    },
    {
      "cell_type": "code",
      "metadata": {
        "colab": {
          "base_uri": "https://localhost:8080/"
        },
        "id": "oFi4LinTJycj",
        "outputId": "ca1d3e54-ac1f-42f1-dfe6-942ebea47177"
      },
      "source": [
        "# Função que exclui todos os dado de usuário a partir do nome\n",
        "def removerContato():\n",
        "  nome = input('Informe o nome do contato que deseja remover: ')\n",
        "  if nome in agenda:\n",
        "    del agenda[nome]\n",
        "    print(\"Contato\", nome, \"removido com sucesso.\")\n",
        "  \n",
        "removerContato()"
      ],
      "execution_count": 86,
      "outputs": [
        {
          "output_type": "stream",
          "text": [
            "Informe o nome do contato que deseja remover: bhbhvuh\n",
            "Contato bhbhvuh removido com sucesso.\n"
          ],
          "name": "stdout"
        }
      ]
    },
    {
      "cell_type": "code",
      "metadata": {
        "id": "2a-v65uBJ1RP"
      },
      "source": [
        "def alterarContato():\n",
        "  if nome in agenda:\n",
        "    agenda[nome][0] = telefone\n",
        "    print('Telefone alterado com sucesso {}  {}'.format(nome,agenda[nome][0]))\n",
        "  else:\n",
        "    print(\"Usuario não encontrado na agenda\")"
      ],
      "execution_count": 33,
      "outputs": []
    },
    {
      "cell_type": "code",
      "metadata": {
        "colab": {
          "base_uri": "https://localhost:8080/",
          "height": 231
        },
        "id": "65yLTQb4J5U-",
        "outputId": "b0b11048-e5c7-4743-e21f-13be75009e38"
      },
      "source": [
        "nome = input(\"Informe o nome do usuário:\")\n",
        "telefone = input(\"Informe o telefone que deve ser alterado:\")\n",
        "alteraTelefone(nome,telefone)"
      ],
      "execution_count": 34,
      "outputs": [
        {
          "output_type": "stream",
          "text": [
            "Informe o nome do usuário:\n",
            "Informe o telefone que deve ser alterado:heloisa\n"
          ],
          "name": "stdout"
        },
        {
          "output_type": "error",
          "ename": "NameError",
          "evalue": "ignored",
          "traceback": [
            "\u001b[0;31m---------------------------------------------------------------------------\u001b[0m",
            "\u001b[0;31mNameError\u001b[0m                                 Traceback (most recent call last)",
            "\u001b[0;32m<ipython-input-34-7b07dd947081>\u001b[0m in \u001b[0;36m<module>\u001b[0;34m()\u001b[0m\n\u001b[1;32m      1\u001b[0m \u001b[0mnome\u001b[0m \u001b[0;34m=\u001b[0m \u001b[0minput\u001b[0m\u001b[0;34m(\u001b[0m\u001b[0;34m\"Informe o nome do usuário:\"\u001b[0m\u001b[0;34m)\u001b[0m\u001b[0;34m\u001b[0m\u001b[0;34m\u001b[0m\u001b[0m\n\u001b[1;32m      2\u001b[0m \u001b[0mtelefone\u001b[0m \u001b[0;34m=\u001b[0m \u001b[0minput\u001b[0m\u001b[0;34m(\u001b[0m\u001b[0;34m\"Informe o telefone que deve ser alterado:\"\u001b[0m\u001b[0;34m)\u001b[0m\u001b[0;34m\u001b[0m\u001b[0;34m\u001b[0m\u001b[0m\n\u001b[0;32m----> 3\u001b[0;31m \u001b[0malteraTelefone\u001b[0m\u001b[0;34m(\u001b[0m\u001b[0mnome\u001b[0m\u001b[0;34m,\u001b[0m\u001b[0mtelefone\u001b[0m\u001b[0;34m)\u001b[0m\u001b[0;34m\u001b[0m\u001b[0;34m\u001b[0m\u001b[0m\n\u001b[0m",
            "\u001b[0;31mNameError\u001b[0m: name 'alteraTelefone' is not defined"
          ]
        }
      ]
    },
    {
      "cell_type": "code",
      "metadata": {
        "colab": {
          "base_uri": "https://localhost:8080/"
        },
        "id": "vCWMISinKWn5",
        "outputId": "3c61d9bb-66f3-4ec5-c7e0-e8138ff269e3"
      },
      "source": [
        "# Função que gera relatório contendo os dados dos contatos cadastrados\n",
        "\n",
        "def listarContatos():\n",
        "  print(\"Numero \\t Nome \\t Telefone \\t E-mail \\t\\t\\t Instagram \\t Twitter\")\n",
        "\n",
        "  cont=1\n",
        "  for i in agenda.keys():\n",
        "    print(\"{}\\t {}\\t {}\\t {}\\t\\t @{}\\t @{}\".format(cont,i,agenda[i][0],agenda[i][1],agenda[i][2],agenda[i][3]))\n",
        "    cont += 1\n",
        "\n",
        "listarContatos()"
      ],
      "execution_count": 143,
      "outputs": [
        {
          "output_type": "stream",
          "text": [
            "Numero \t Nome \t Telefone \t E-mail \t\t\t Instagram \t Twitter\n",
            "1\t Lara\t 3456-3876\t laramc@uol.com.br\t\t @laramartins\t @laramc\n",
            "2\t Joao\t 3798-7843\t joaozinho@hotmail.com\t\t @joao123\t @joaosilva\n",
            "3\t Maria\t 9876-3219\t mariaaa@gmail.com\t\t @mariarm\t @mariaramalho\n",
            "4\t Pedro\t 9965-6532\t pedro1993@outlook.com\t\t @pedro2406\t @predonline\n",
            "5\t Carla\t 9745-1218\t carlamoreira@gmail.com\t\t @carlamoreiram\t @carlinhamor\n",
            "6\t Marcos\t 35456-7788\t marcossilva@bol.com.br\t\t @marcooo123\t @marcaosilvaa\n"
          ],
          "name": "stdout"
        }
      ]
    },
    {
      "cell_type": "code",
      "metadata": {
        "colab": {
          "base_uri": "https://localhost:8080/"
        },
        "id": "oEVePJ_dicdz",
        "outputId": "b55232e7-ffa9-4614-c7d5-2481a395e0fb"
      },
      "source": [
        "print(agenda)"
      ],
      "execution_count": 87,
      "outputs": [
        {
          "output_type": "stream",
          "text": [
            "{'Joao': ['3798-7843', 'joaozinho@hotmail.com', 'joao123', 'joaosilva'], 'Maria': ['9876-3219', 'mariaaa@gmail.com', 'mariarm', 'mariaramalho'], 'Roberto': ['9965-6532', 'beto1993@outlook.com', 'beto2406', 'betoline'], 'Carla': ['9745-1218', 'carlamoreira@gmail.com', 'carlamoreiram', 'carlinhamor'], 'Marcos': ['35456-7788', 'marcossilva@bol.com.br', 'marcooo123', 'marcaosilvaa']}\n"
          ],
          "name": "stdout"
        }
      ]
    },
    {
      "cell_type": "code",
      "metadata": {
        "id": "El1M_XhFKZcB"
      },
      "source": [
        "# Função que apresenta o menu\n",
        "\n",
        "def print_menu():\n",
        "  print(\"Agenda Telefonica\\n\"\n",
        "  \"\\n\"\n",
        "  \"Menu\\n\"\n",
        "  \"1 - Inserir contato\\n\"\n",
        "  \"2 - Consultar contato\\n\"\n",
        "  \"3 - Remover contato\\n\"\n",
        "  \"4 - Alterar contato\\n\"\n",
        "  \"5 - Listar contatos\\n\"\n",
        "  \"6 - Sair\")"
      ],
      "execution_count": 47,
      "outputs": []
    },
    {
      "cell_type": "code",
      "metadata": {
        "colab": {
          "base_uri": "https://localhost:8080/"
        },
        "id": "-JZG7W6zLTrT",
        "outputId": "6dd5b31e-2531-4c72-d1df-922b04f9bc4b"
      },
      "source": [
        "opcao = int(input('Informe a opcao desejada: '))"
      ],
      "execution_count": 29,
      "outputs": [
        {
          "output_type": "stream",
          "text": [
            "Informe a opcao desejada: 3\n"
          ],
          "name": "stdout"
        }
      ]
    },
    {
      "cell_type": "code",
      "metadata": {
        "id": "QwGrMjmb_iI4",
        "colab": {
          "base_uri": "https://localhost:8080/"
        },
        "outputId": "ffe4bbd8-adbe-4298-eb49-a5fe52e6d695"
      },
      "source": [
        "if opcao == 1:\n",
        "  inserirContato()\n",
        "elif opcao == 2:\n",
        "  consultarContato()\n",
        "elif opcao == 3:\n",
        "  removerContato(agenda)\n",
        "elif opcao == 4:\n",
        "  alterarContato()\n",
        "elif opcao == 5:\n",
        "  listarContatos()\n",
        "elif opcao == 6:\n",
        "  print('FIM')\n",
        "else:\n",
        "  print('Opcao invalida!')"
      ],
      "execution_count": 35,
      "outputs": [
        {
          "output_type": "stream",
          "text": [
            "Informe o nome do contato que deseja remover: Heloisa\n"
          ],
          "name": "stdout"
        }
      ]
    }
  ]
}